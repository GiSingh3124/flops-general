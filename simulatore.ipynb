{
 "cells": [
  {
   "cell_type": "code",
   "execution_count": 1,
   "metadata": {},
   "outputs": [
    {
     "name": "stdout",
     "output_type": "stream",
     "text": [
      "Simulazione di tutte le combinazioni (totale 78125 configurazioni) in corso...\n",
      "Simulazione completata. Risultati salvati in 'C:\\Users\\giorg\\Downloads\\flower\\mobilenet\\flops\\mob\\simulation_results.xlsx'.\n"
     ]
    },
    {
     "data": {
      "text/html": [
       "<div>\n",
       "<style scoped>\n",
       "    .dataframe tbody tr th:only-of-type {\n",
       "        vertical-align: middle;\n",
       "    }\n",
       "\n",
       "    .dataframe tbody tr th {\n",
       "        vertical-align: top;\n",
       "    }\n",
       "\n",
       "    .dataframe thead th {\n",
       "        text-align: right;\n",
       "    }\n",
       "</style>\n",
       "<table border=\"1\" class=\"dataframe\">\n",
       "  <thead>\n",
       "    <tr style=\"text-align: right;\">\n",
       "      <th></th>\n",
       "      <th>block1</th>\n",
       "      <th>block2</th>\n",
       "      <th>block3</th>\n",
       "      <th>block4</th>\n",
       "      <th>block5</th>\n",
       "      <th>block6</th>\n",
       "      <th>block7</th>\n",
       "      <th>total_compute_time</th>\n",
       "      <th>total_comm_time</th>\n",
       "      <th>total_inference_time</th>\n",
       "    </tr>\n",
       "  </thead>\n",
       "  <tbody>\n",
       "    <tr>\n",
       "      <td>39062</td>\n",
       "      <td>E2</td>\n",
       "      <td>E2</td>\n",
       "      <td>E2</td>\n",
       "      <td>E2</td>\n",
       "      <td>E2</td>\n",
       "      <td>E2</td>\n",
       "      <td>E2</td>\n",
       "      <td>0.227600</td>\n",
       "      <td>0.038034</td>\n",
       "      <td>0.265634</td>\n",
       "    </tr>\n",
       "    <tr>\n",
       "      <td>39063</td>\n",
       "      <td>E2</td>\n",
       "      <td>E2</td>\n",
       "      <td>E2</td>\n",
       "      <td>E2</td>\n",
       "      <td>E2</td>\n",
       "      <td>E2</td>\n",
       "      <td>E3</td>\n",
       "      <td>0.227600</td>\n",
       "      <td>0.039066</td>\n",
       "      <td>0.266666</td>\n",
       "    </tr>\n",
       "    <tr>\n",
       "      <td>39061</td>\n",
       "      <td>E2</td>\n",
       "      <td>E2</td>\n",
       "      <td>E2</td>\n",
       "      <td>E2</td>\n",
       "      <td>E2</td>\n",
       "      <td>E2</td>\n",
       "      <td>E1</td>\n",
       "      <td>0.227867</td>\n",
       "      <td>0.039066</td>\n",
       "      <td>0.266933</td>\n",
       "    </tr>\n",
       "    <tr>\n",
       "      <td>39068</td>\n",
       "      <td>E2</td>\n",
       "      <td>E2</td>\n",
       "      <td>E2</td>\n",
       "      <td>E2</td>\n",
       "      <td>E2</td>\n",
       "      <td>E3</td>\n",
       "      <td>E3</td>\n",
       "      <td>0.227600</td>\n",
       "      <td>0.039836</td>\n",
       "      <td>0.267436</td>\n",
       "    </tr>\n",
       "    <tr>\n",
       "      <td>39093</td>\n",
       "      <td>E2</td>\n",
       "      <td>E2</td>\n",
       "      <td>E2</td>\n",
       "      <td>E2</td>\n",
       "      <td>E3</td>\n",
       "      <td>E3</td>\n",
       "      <td>E3</td>\n",
       "      <td>0.227600</td>\n",
       "      <td>0.040639</td>\n",
       "      <td>0.268239</td>\n",
       "    </tr>\n",
       "    <tr>\n",
       "      <td>...</td>\n",
       "      <td>...</td>\n",
       "      <td>...</td>\n",
       "      <td>...</td>\n",
       "      <td>...</td>\n",
       "      <td>...</td>\n",
       "      <td>...</td>\n",
       "      <td>...</td>\n",
       "      <td>...</td>\n",
       "      <td>...</td>\n",
       "      <td>...</td>\n",
       "    </tr>\n",
       "    <tr>\n",
       "      <td>65020</td>\n",
       "      <td>C</td>\n",
       "      <td>D</td>\n",
       "      <td>C</td>\n",
       "      <td>D</td>\n",
       "      <td>D</td>\n",
       "      <td>C</td>\n",
       "      <td>D</td>\n",
       "      <td>0.482389</td>\n",
       "      <td>3.138468</td>\n",
       "      <td>3.620856</td>\n",
       "    </tr>\n",
       "    <tr>\n",
       "      <td>65101</td>\n",
       "      <td>C</td>\n",
       "      <td>D</td>\n",
       "      <td>C</td>\n",
       "      <td>D</td>\n",
       "      <td>C</td>\n",
       "      <td>D</td>\n",
       "      <td>E1</td>\n",
       "      <td>0.301972</td>\n",
       "      <td>3.324956</td>\n",
       "      <td>3.626928</td>\n",
       "    </tr>\n",
       "    <tr>\n",
       "      <td>65102</td>\n",
       "      <td>C</td>\n",
       "      <td>D</td>\n",
       "      <td>C</td>\n",
       "      <td>D</td>\n",
       "      <td>C</td>\n",
       "      <td>D</td>\n",
       "      <td>E2</td>\n",
       "      <td>0.301706</td>\n",
       "      <td>3.325989</td>\n",
       "      <td>3.627694</td>\n",
       "    </tr>\n",
       "    <tr>\n",
       "      <td>65103</td>\n",
       "      <td>C</td>\n",
       "      <td>D</td>\n",
       "      <td>C</td>\n",
       "      <td>D</td>\n",
       "      <td>C</td>\n",
       "      <td>D</td>\n",
       "      <td>E3</td>\n",
       "      <td>0.301706</td>\n",
       "      <td>3.327022</td>\n",
       "      <td>3.628727</td>\n",
       "    </tr>\n",
       "    <tr>\n",
       "      <td>65104</td>\n",
       "      <td>C</td>\n",
       "      <td>D</td>\n",
       "      <td>C</td>\n",
       "      <td>D</td>\n",
       "      <td>C</td>\n",
       "      <td>D</td>\n",
       "      <td>C</td>\n",
       "      <td>0.301556</td>\n",
       "      <td>3.360298</td>\n",
       "      <td>3.661854</td>\n",
       "    </tr>\n",
       "  </tbody>\n",
       "</table>\n",
       "<p>78125 rows × 10 columns</p>\n",
       "</div>"
      ],
      "text/plain": [
       "      block1 block2 block3 block4 block5 block6 block7  total_compute_time  \\\n",
       "39062     E2     E2     E2     E2     E2     E2     E2            0.227600   \n",
       "39063     E2     E2     E2     E2     E2     E2     E3            0.227600   \n",
       "39061     E2     E2     E2     E2     E2     E2     E1            0.227867   \n",
       "39068     E2     E2     E2     E2     E2     E3     E3            0.227600   \n",
       "39093     E2     E2     E2     E2     E3     E3     E3            0.227600   \n",
       "...      ...    ...    ...    ...    ...    ...    ...                 ...   \n",
       "65020      C      D      C      D      D      C      D            0.482389   \n",
       "65101      C      D      C      D      C      D     E1            0.301972   \n",
       "65102      C      D      C      D      C      D     E2            0.301706   \n",
       "65103      C      D      C      D      C      D     E3            0.301706   \n",
       "65104      C      D      C      D      C      D      C            0.301556   \n",
       "\n",
       "       total_comm_time  total_inference_time  \n",
       "39062         0.038034              0.265634  \n",
       "39063         0.039066              0.266666  \n",
       "39061         0.039066              0.266933  \n",
       "39068         0.039836              0.267436  \n",
       "39093         0.040639              0.268239  \n",
       "...                ...                   ...  \n",
       "65020         3.138468              3.620856  \n",
       "65101         3.324956              3.626928  \n",
       "65102         3.325989              3.627694  \n",
       "65103         3.327022              3.628727  \n",
       "65104         3.360298              3.661854  \n",
       "\n",
       "[78125 rows x 10 columns]"
      ]
     },
     "metadata": {},
     "output_type": "display_data"
    },
    {
     "name": "stdout",
     "output_type": "stream",
     "text": [
      "\n",
      "=== Migliore configurazione (tempo inferenza minimo) ===\n",
      "=== Riepilogo esecuzione per nodo ===\n",
      "Nodo       CPU (GHz)       Blocchi eseguiti     GFLOPS Totali   Tempo Computo (s)\n",
      "D          0.9             []                   0.000           0.000          \n",
      "E1         1.5             []                   0.000           0.000          \n",
      "E2         2.5             [1, 2, 3, 4, 5, 6, 7] 0.569           0.228          \n",
      "E3         2.5             []                   0.000           0.000          \n",
      "C          4.0             []                   0.000           0.000          \n",
      "\n",
      "=== Tempi di trasmissione ===\n",
      "D->Block1: 0.03803 s\n",
      "Block1->Block2: 0.00000 s\n",
      "Block2->Block3: 0.00000 s\n",
      "Block3->Block4: 0.00000 s\n",
      "Block4->Block5: 0.00000 s\n",
      "Block5->Block6: 0.00000 s\n",
      "Block6->Block7: 0.00000 s\n",
      "\n",
      "Tempo totale di calcolo: 0.22760 s\n",
      "Tempo totale di comunicazione: 0.03803 s\n",
      "Tempo totale di inferenza: 0.26563 s\n"
     ]
    }
   ],
   "source": [
    "#!/usr/bin/env python3\n",
    "\"\"\"\n",
    "Architettura:\n",
    "         D (1.0 GHz)\n",
    "            │\n",
    "   (L1: 100 Mbps, 10 ms)\n",
    "            │\n",
    "         E1 (1.5 GHz)\n",
    "            │\n",
    "   (L2: 1 Gbps, 1 ms)\n",
    "            │\n",
    "         E2 (2.5 GHz)\n",
    "            │\n",
    "   (L3: 1 Gbps, 1 ms)\n",
    "            │\n",
    "         E3 (2.5 GHz)\n",
    "            │\n",
    "   (L4: 10 Mbps, 30 ms)\n",
    "            │\n",
    "         C (4.0 GHz)\n",
    "\"\"\"\n",
    "\n",
    "import math\n",
    "import itertools\n",
    "import pandas as pd\n",
    "import os\n",
    "import glob\n",
    "\n",
    "# nodi con frequenza e  gerarchia.\n",
    "nodes = {\n",
    "    'D':  {'freq': 0.9, 'order': 0},\n",
    "    'E1': {'freq': 1.5, 'order': 1},\n",
    "    'E2': {'freq': 2.5, 'order': 2},\n",
    "    'E3': {'freq': 2.5, 'order': 3},\n",
    "    'C':  {'freq': 4.0, 'order': 4}\n",
    "}\n",
    "\n",
    "#  link, le chiavi sono tuple (from_order, to_order)\n",
    "links = {\n",
    "    (0, 1): {'bandwidth': 100e6, 'delay': 0.01},  # L1: D -> E1\n",
    "    (1, 2): {'bandwidth': 1e9,   'delay': 0.001},  # L2: E1 -> E2\n",
    "    (2, 3): {'bandwidth': 1e9,   'delay': 0.001},  # L3: E2 -> E3\n",
    "    (3, 4): {'bandwidth': 10e6,  'delay': 0.03}     # L4: E3 -> C\n",
    "}\n",
    "\n",
    "# GFLOPS richiesti ed output (in KB)\n",
    "blocks = {\n",
    "    1: {'gflops': 0.014, 'output_kb': 1568.00},\n",
    "    2: {'gflops': 0.028, 'output_kb': 784.00},\n",
    "    3: {'gflops': 0.082, 'output_kb': 392.00},\n",
    "    4: {'gflops': 0.079, 'output_kb': 196.00},\n",
    "    5: {'gflops': 0.287, 'output_kb': 98.00},\n",
    "    6: {'gflops': 0.078, 'output_kb': 4.00},\n",
    "    7: {'gflops': 0.001, 'output_kb': 3.91}\n",
    "    #7: {'gflops': 20, 'output_kb': 3.91}\n",
    "}\n",
    "\n",
    "# Input iniziale dal nodo D per il blocco 1 (in KB)\n",
    "input_size_kb = 300\n",
    "\n",
    "def compute_block_time(block, node):\n",
    "    \"\"\"\n",
    "    Calcola il tempo computazionale per eseguire un blocco su un nodo.\n",
    "    Tempo = (GFLOPS richiesti) / (Frequenza del nodo in GHz)\n",
    "    \"\"\"\n",
    "    return block['gflops'] / node['freq']\n",
    "\n",
    "def transmission_time(data_kb, from_order, to_order):\n",
    "    \"\"\"\n",
    "    Calcola il tempo di trasmissione per inviare data (in KB) da un nodo\n",
    "    con \"order\" from_order a un nodo con \"order\" to_order.\n",
    "    Il tempo su ogni link = (dati in bit / bandwidth) + delay.\n",
    "    Se non c'è traversata (stesso nodo), ritorna 0.\n",
    "    \"\"\"\n",
    "    if from_order == to_order:\n",
    "        return 0.0\n",
    "\n",
    "    total_time = 0.0\n",
    "    if from_order < to_order:\n",
    "        for order in range(from_order, to_order):\n",
    "            link = links[(order, order+1)]\n",
    "            data_bits = data_kb * 1024 * 8  # 1 KB = 1024 byte, 1 byte = 8 bit\n",
    "            tx_time = data_bits / link['bandwidth'] + link['delay']\n",
    "            total_time += tx_time\n",
    "    else:\n",
    "        for order in range(from_order, to_order, -1):\n",
    "            link = links[(order-1, order)]\n",
    "            data_bits = data_kb * 1024 * 8\n",
    "            tx_time = data_bits / link['bandwidth'] + link['delay']\n",
    "            total_time += tx_time\n",
    "\n",
    "    return total_time\n",
    "\n",
    "def simulate_inference_result(node_assignment):\n",
    "    \"\"\"\n",
    "    Simula l'inferenza in split, dato l'assegnamento dei blocchi ai nodi.\n",
    "    Ritorna un dizionario con i tempi totali e altre info.\n",
    "    \"\"\"\n",
    "    total_compute_time = 0.0\n",
    "    total_comm_time = 0.0\n",
    "    \n",
    "\n",
    "    t_tx = transmission_time(input_size_kb, nodes['D']['order'], nodes[node_assignment[1]]['order'])\n",
    "    total_comm_time += t_tx\n",
    "\n",
    "    for b in sorted(blocks.keys()):\n",
    "        node_name = node_assignment[b]\n",
    "        compute_time = compute_block_time(blocks[b], nodes[node_name])\n",
    "        total_compute_time += compute_time\n",
    "\n",
    "        if b < max(blocks.keys()):\n",
    "            next_node_name = node_assignment[b+1]\n",
    "            data_kb = blocks[b]['output_kb']\n",
    "            t_tx = transmission_time(data_kb, nodes[node_name]['order'], nodes[next_node_name]['order'])\n",
    "            total_comm_time += t_tx\n",
    "\n",
    "    total_time = total_compute_time + total_comm_time\n",
    "\n",
    "    return {\n",
    "        'assignment': node_assignment.copy(),\n",
    "        'total_compute_time': total_compute_time,\n",
    "        'total_comm_time': total_comm_time,\n",
    "        'total_inference_time': total_time\n",
    "    }\n",
    "\n",
    "def simulate_inference(node_assignment, print_result=True):\n",
    "    \"\"\"\n",
    "    Esegue la simulazione e stampa un riepilogo dettagliato per una data assegnazione.\n",
    "    \"\"\"\n",
    "    node_compute = {node: {'blocks': [], 'gflops_total': 0.0, 'compute_time': 0.0} for node in nodes}\n",
    "    total_compute_time = 0.0\n",
    "    total_comm_time = 0.0\n",
    "    comm_times = {}\n",
    "    block_times = {}\n",
    "\n",
    "    \n",
    "    t_tx = transmission_time(input_size_kb, nodes['D']['order'], nodes[node_assignment[1]]['order'])\n",
    "    comm_times[\"D->Block1\"] = t_tx\n",
    "    total_comm_time += t_tx\n",
    "\n",
    "    \n",
    "    for b in sorted(blocks.keys()):\n",
    "        node_name = node_assignment[b]\n",
    "        compute_time = compute_block_time(blocks[b], nodes[node_name])\n",
    "        block_times[b] = compute_time\n",
    "\n",
    "        node_compute[node_name]['blocks'].append(b)\n",
    "        node_compute[node_name]['gflops_total'] += blocks[b]['gflops']\n",
    "        node_compute[node_name]['compute_time'] += compute_time\n",
    "        total_compute_time += compute_time\n",
    "\n",
    "        if b < max(blocks.keys()):\n",
    "            next_node_name = node_assignment[b+1]\n",
    "            data_kb = blocks[b]['output_kb']\n",
    "            tx_key = f\"Block{b}->Block{b+1}\"\n",
    "            t_tx = transmission_time(data_kb, nodes[node_name]['order'], nodes[next_node_name]['order'])\n",
    "            comm_times[tx_key] = t_tx\n",
    "            total_comm_time += t_tx\n",
    "\n",
    "    total_time = total_compute_time + total_comm_time\n",
    "\n",
    "    if print_result:\n",
    "        print(\"=== Riepilogo esecuzione per nodo ===\")\n",
    "        print(\"{:<10} {:<15} {:<20} {:<15} {:<15}\".format(\"Nodo\", \"CPU (GHz)\", \"Blocchi eseguiti\", \"GFLOPS Totali\", \"Tempo Computo (s)\"))\n",
    "        for node, info in node_compute.items():\n",
    "            print(\"{:<10} {:<15} {:<20} {:<15.3f} {:<15.3f}\".format(node, nodes[node]['freq'], str(info['blocks']), info['gflops_total'], info['compute_time']))\n",
    "        print()\n",
    "        \n",
    "        print(\"=== Tempi di trasmissione ===\")\n",
    "        for key, t in comm_times.items():\n",
    "            print(f\"{key}: {t:.5f} s\")\n",
    "        print()\n",
    "        \n",
    "        print(\"Tempo totale di calcolo: {:.5f} s\".format(total_compute_time))\n",
    "        print(\"Tempo totale di comunicazione: {:.5f} s\".format(total_comm_time))\n",
    "        print(\"Tempo totale di inferenza: {:.5f} s\".format(total_time))\n",
    "    \n",
    "    return {\n",
    "        'node_compute': node_compute,\n",
    "        'comm_times': comm_times,\n",
    "        'total_compute_time': total_compute_time,\n",
    "        'total_comm_time': total_comm_time,\n",
    "        'total_inference_time': total_time\n",
    "    }\n",
    "\n",
    "# se True, esegue la simulazione su tutte le possibili combinazioni di placement\n",
    "simulate_all = True\n",
    "\n",
    "# percorso della cartella di output per i file Excel\n",
    "output_folder = r\"C:\\Users\\giorg\\Downloads\\flower\\mobilenet\\flops\\mob\"\n",
    "base_excel_filename = \"simulation_results.xlsx\"\n",
    "single_sim_excel_path = os.path.join(output_folder, \"single_simulation_results.xlsx\")\n",
    "\n",
    "if simulate_all:\n",
    "    # Simulazione di tutte le possibili combinazioni\n",
    "    nodes_list = list(nodes.keys())\n",
    "    all_assignments = list(itertools.product(nodes_list, repeat=len(blocks)))\n",
    "    results = []\n",
    "    print(\"Simulazione di tutte le combinazioni (totale {} configurazioni) in corso...\".format(len(all_assignments)))\n",
    "    \n",
    "    for assignment_tuple in all_assignments:\n",
    "        assignment = {i+1: assignment_tuple[i] for i in range(len(assignment_tuple))}\n",
    "        sim_result = simulate_inference_result(assignment)\n",
    "        sim_result_flat = {\n",
    "            'block1': assignment[1],\n",
    "            'block2': assignment[2],\n",
    "            'block3': assignment[3],\n",
    "            'block4': assignment[4],\n",
    "            'block5': assignment[5],\n",
    "            'block6': assignment[6],\n",
    "            'block7': assignment[7],\n",
    "            'total_compute_time': sim_result['total_compute_time'],\n",
    "            'total_comm_time': sim_result['total_comm_time'],\n",
    "            'total_inference_time': sim_result['total_inference_time']\n",
    "        }\n",
    "        results.append(sim_result_flat)\n",
    "    \n",
    "    df = pd.DataFrame(results)\n",
    "    df.sort_values(by=\"total_inference_time\", inplace=True)\n",
    "    \n",
    "    if not os.path.exists(output_folder):\n",
    "        os.makedirs(output_folder)\n",
    "    \n",
    "    excel_path = os.path.join(output_folder, base_excel_filename)\n",
    "    df.to_excel(excel_path, index=False)\n",
    "    print(\"Simulazione completata. Risultati salvati in '{}'.\".format(excel_path))\n",
    "    display(df)\n",
    "    \n",
    "    \n",
    "    best_row = df.iloc[0]\n",
    "    best_assignment = {\n",
    "        1: best_row['block1'],\n",
    "        2: best_row['block2'],\n",
    "        3: best_row['block3'],\n",
    "        4: best_row['block4'],\n",
    "        5: best_row['block5'],\n",
    "        6: best_row['block6'],\n",
    "        7: best_row['block7']\n",
    "    }\n",
    "    print(\"\\n=== Migliore configurazione (tempo inferenza minimo) ===\")\n",
    "    simulate_inference(best_assignment, print_result=True)\n",
    "    \n",
    "else:\n",
    "    # Simulazione singola\n",
    "    assignment = {\n",
    "        1: 'E1',    \n",
    "        2: 'E1',\n",
    "        3: 'E2',\n",
    "        4: 'E2',\n",
    "        5: 'E2',\n",
    "        6: 'E3',\n",
    "        7: 'E3'\n",
    "    }\n",
    "    sim_result = simulate_inference_result(assignment)\n",
    "    sim_result_flat = {\n",
    "        'block1': assignment[1],\n",
    "        'block2': assignment[2],\n",
    "        'block3': assignment[3],\n",
    "        'block4': assignment[4],\n",
    "        'block5': assignment[5],\n",
    "        'block6': assignment[6],\n",
    "        'block7': assignment[7],\n",
    "        'total_compute_time': sim_result['total_compute_time'],\n",
    "        'total_comm_time': sim_result['total_comm_time'],\n",
    "        'total_inference_time': sim_result['total_inference_time']\n",
    "    }\n",
    "    new_df = pd.DataFrame([sim_result_flat])\n",
    "    \n",
    "    if not os.path.exists(output_folder):\n",
    "        os.makedirs(output_folder)\n",
    "    \n",
    "    if os.path.exists(single_sim_excel_path):\n",
    "        old_df = pd.read_excel(single_sim_excel_path)\n",
    "        combined_df = pd.concat([old_df, new_df], ignore_index=True)\n",
    "        combined_df.to_excel(single_sim_excel_path, index=False)\n",
    "    else:\n",
    "        new_df.to_excel(single_sim_excel_path, index=False)\n",
    "    \n",
    "    print(\"Simulazione singola completata. Risultati salvati (append) in '{}'.\".format(single_sim_excel_path))\n",
    "    display(pd.read_excel(single_sim_excel_path))\n",
    "    \n",
    "    print(\"\\n=== Riepilogo dettagliato della simulazione singola ===\")\n",
    "    simulate_inference(assignment, print_result=True)\n"
   ]
  },
  {
   "cell_type": "code",
   "execution_count": 55,
   "metadata": {},
   "outputs": [
    {
     "data": {
      "image/png": "[encoded data removed]",
      "text/plain": [
       "<Figure size 720x432 with 1 Axes>"
      ]
     },
     "metadata": {
      "needs_background": "light"
     },
     "output_type": "display_data"
    },
    {
     "data": {
      "image/png": "[encoded data removed]",
      "text/plain": [
       "<Figure size 720x432 with 1 Axes>"
      ]
     },
     "metadata": {
      "needs_background": "light"
     },
     "output_type": "display_data"
    },
    {
     "data": {
      "image/png": "[encoded data removed]",
      "text/plain": [
       "<Figure size 720x432 with 1 Axes>"
      ]
     },
     "metadata": {
      "needs_background": "light"
     },
     "output_type": "display_data"
    },
    {
     "data": {
      "application/vnd.plotly.v1+json": {
       "config": {
        "plotlyServerURL": "https://plot.ly"
       },
       "data": [
        {
         "hovertemplate": "Tempo di Calcolo (s)=%{x}<br>Tempo di Comunicazione (s)=%{y}<br>Tempo Totale di Inferenza (s)=%{marker.color}<extra></extra>",
         "legendgroup": "",
         "marker": {
          "color": [
           0.2656336,
           0.28340416,
           0.569,
           0.6322222222222221
          ],
          "coloraxis": "coloraxis",
          "size": 5,
          "symbol": "circle"
         },
         "mode": "markers",
         "name": "",
         "scene": "scene",
         "showlegend": false,
         "type": "scatter3d",
         "x": [
          0.2276,
          0.2388,
          0.569,
          0.6322222222222221
         ],
         "y": [
          0.0380336,
          0.04460416,
          0,
          0
         ],
         "z": [
          0.2656336,
          0.28340416,
          0.569,
          0.6322222222222221
         ]
        }
       ],
       "layout": {
        "coloraxis": {
         "colorbar": {
          "title": {
           "text": "Tempo Totale di Inferenza (s)"
          }
         },
         "colorscale": [
          [
           0,
           "#0d0887"
          ],
          [
           0.1111111111111111,
           "#46039f"
          ],
          [
           0.2222222222222222,
           "#7201a8"
          ],
          [
           0.3333333333333333,
           "#9c179e"
          ],
          [
           0.4444444444444444,
           "#bd3786"
          ],
          [
           0.5555555555555556,
           "#d8576b"
          ],
          [
           0.6666666666666666,
           "#ed7953"
          ],
          [
           0.7777777777777778,
           "#fb9f3a"
          ],
          [
           0.8888888888888888,
           "#fdca26"
          ],
          [
           1,
           "#f0f921"
          ]
         ]
        },
        "legend": {
         "tracegroupgap": 0
        },
        "scene": {
         "domain": {
          "x": [
           0,
           1
          ],
          "y": [
           0,
           1
          ]
         },
         "xaxis": {
          "title": {
           "text": "Tempo di Calcolo (s)"
          }
         },
         "yaxis": {
          "title": {
           "text": "Tempo di Comunicazione (s)"
          }
         },
         "zaxis": {
          "title": {
           "text": "Tempo Totale di Inferenza (s)"
          }
         }
        },
        "template": {
         "data": {
          "bar": [
           {
            "error_x": {
             "color": "#2a3f5f"
            },
            "error_y": {
             "color": "#2a3f5f"
            },
            "marker": {
             "line": {
              "color": "#E5ECF6",
              "width": 0.5
             },
             "pattern": {
              "fillmode": "overlay",
              "size": 10,
              "solidity": 0.2
             }
            },
            "type": "bar"
           }
          ],
          "barpolar": [
           {
            "marker": {
             "line": {
              "color": "#E5ECF6",
              "width": 0.5
             },
             "pattern": {
              "fillmode": "overlay",
              "size": 10,
              "solidity": 0.2
             }
            },
            "type": "barpolar"
           }
          ],
          "carpet": [
           {
            "aaxis": {
             "endlinecolor": "#2a3f5f",
             "gridcolor": "white",
             "linecolor": "white",
             "minorgridcolor": "white",
             "startlinecolor": "#2a3f5f"
            },
            "baxis": {
             "endlinecolor": "#2a3f5f",
             "gridcolor": "white",
             "linecolor": "white",
             "minorgridcolor": "white",
             "startlinecolor": "#2a3f5f"
            },
            "type": "carpet"
           }
          ],
          "choropleth": [
           {
            "colorbar": {
             "outlinewidth": 0,
             "ticks": ""
            },
            "type": "choropleth"
           }
          ],
          "contour": [
           {
            "colorbar": {
             "outlinewidth": 0,
             "ticks": ""
            },
            "colorscale": [
             [
              0,
              "#0d0887"
             ],
             [
              0.1111111111111111,
              "#46039f"
             ],
             [
              0.2222222222222222,
              "#7201a8"
             ],
             [
              0.3333333333333333,
              "#9c179e"
             ],
             [
              0.4444444444444444,
              "#bd3786"
             ],
             [
              0.5555555555555556,
              "#d8576b"
             ],
             [
              0.6666666666666666,
              "#ed7953"
             ],
             [
              0.7777777777777778,
              "#fb9f3a"
             ],
             [
              0.8888888888888888,
              "#fdca26"
             ],
             [
              1,
              "#f0f921"
             ]
            ],
            "type": "contour"
           }
          ],
          "contourcarpet": [
           {
            "colorbar": {
             "outlinewidth": 0,
             "ticks": ""
            },
            "type": "contourcarpet"
           }
          ],
          "heatmap": [
           {
            "colorbar": {
             "outlinewidth": 0,
             "ticks": ""
            },
            "colorscale": [
             [
              0,
              "#0d0887"
             ],
             [
              0.1111111111111111,
              "#46039f"
             ],
             [
              0.2222222222222222,
              "#7201a8"
             ],
             [
              0.3333333333333333,
              "#9c179e"
             ],
             [
              0.4444444444444444,
              "#bd3786"
             ],
             [
              0.5555555555555556,
              "#d8576b"
             ],
             [
              0.6666666666666666,
              "#ed7953"
             ],
             [
              0.7777777777777778,
              "#fb9f3a"
             ],
             [
              0.8888888888888888,
              "#fdca26"
             ],
             [
              1,
              "#f0f921"
             ]
            ],
            "type": "heatmap"
           }
          ],
          "heatmapgl": [
           {
            "colorbar": {
             "outlinewidth": 0,
             "ticks": ""
            },
            "colorscale": [
             [
              0,
              "#0d0887"
             ],
             [
              0.1111111111111111,
              "#46039f"
             ],
             [
              0.2222222222222222,
              "#7201a8"
             ],
             [
              0.3333333333333333,
              "#9c179e"
             ],
             [
              0.4444444444444444,
              "#bd3786"
             ],
             [
              0.5555555555555556,
              "#d8576b"
             ],
             [
              0.6666666666666666,
              "#ed7953"
             ],
             [
              0.7777777777777778,
              "#fb9f3a"
             ],
             [
              0.8888888888888888,
              "#fdca26"
             ],
             [
              1,
              "#f0f921"
             ]
            ],
            "type": "heatmapgl"
           }
          ],
          "histogram": [
           {
            "marker": {
             "pattern": {
              "fillmode": "overlay",
              "size": 10,
              "solidity": 0.2
             }
            },
            "type": "histogram"
           }
          ],
          "histogram2d": [
           {
            "colorbar": {
             "outlinewidth": 0,
             "ticks": ""
            },
            "colorscale": [
             [
              0,
              "#0d0887"
             ],
             [
              0.1111111111111111,
              "#46039f"
             ],
             [
              0.2222222222222222,
              "#7201a8"
             ],
             [
              0.3333333333333333,
              "#9c179e"
             ],
             [
              0.4444444444444444,
              "#bd3786"
             ],
             [
              0.5555555555555556,
              "#d8576b"
             ],
             [
              0.6666666666666666,
              "#ed7953"
             ],
             [
              0.7777777777777778,
              "#fb9f3a"
             ],
             [
              0.8888888888888888,
              "#fdca26"
             ],
             [
              1,
              "#f0f921"
             ]
            ],
            "type": "histogram2d"
           }
          ],
          "histogram2dcontour": [
           {
            "colorbar": {
             "outlinewidth": 0,
             "ticks": ""
            },
            "colorscale": [
             [
              0,
              "#0d0887"
             ],
             [
              0.1111111111111111,
              "#46039f"
             ],
             [
              0.2222222222222222,
              "#7201a8"
             ],
             [
              0.3333333333333333,
              "#9c179e"
             ],
             [
              0.4444444444444444,
              "#bd3786"
             ],
             [
              0.5555555555555556,
              "#d8576b"
             ],
             [
              0.6666666666666666,
              "#ed7953"
             ],
             [
              0.7777777777777778,
              "#fb9f3a"
             ],
             [
              0.8888888888888888,
              "#fdca26"
             ],
             [
              1,
              "#f0f921"
             ]
            ],
            "type": "histogram2dcontour"
           }
          ],
          "mesh3d": [
           {
            "colorbar": {
             "outlinewidth": 0,
             "ticks": ""
            },
            "type": "mesh3d"
           }
          ],
          "parcoords": [
           {
            "line": {
             "colorbar": {
              "outlinewidth": 0,
              "ticks": ""
             }
            },
            "type": "parcoords"
           }
          ],
          "pie": [
           {
            "automargin": true,
            "type": "pie"
           }
          ],
          "scatter": [
           {
            "fillpattern": {
             "fillmode": "overlay",
             "size": 10,
             "solidity": 0.2
            },
            "type": "scatter"
           }
          ],
          "scatter3d": [
           {
            "line": {
             "colorbar": {
              "outlinewidth": 0,
              "ticks": ""
             }
            },
            "marker": {
             "colorbar": {
              "outlinewidth": 0,
              "ticks": ""
             }
            },
            "type": "scatter3d"
           }
          ],
          "scattercarpet": [
           {
            "marker": {
             "colorbar": {
              "outlinewidth": 0,
              "ticks": ""
             }
            },
            "type": "scattercarpet"
           }
          ],
          "scattergeo": [
           {
            "marker": {
             "colorbar": {
              "outlinewidth": 0,
              "ticks": ""
             }
            },
            "type": "scattergeo"
           }
          ],
          "scattergl": [
           {
            "marker": {
             "colorbar": {
              "outlinewidth": 0,
              "ticks": ""
             }
            },
            "type": "scattergl"
           }
          ],
          "scattermapbox": [
           {
            "marker": {
             "colorbar": {
              "outlinewidth": 0,
              "ticks": ""
             }
            },
            "type": "scattermapbox"
           }
          ],
          "scatterpolar": [
           {
            "marker": {
             "colorbar": {
              "outlinewidth": 0,
              "ticks": ""
             }
            },
            "type": "scatterpolar"
           }
          ],
          "scatterpolargl": [
           {
            "marker": {
             "colorbar": {
              "outlinewidth": 0,
              "ticks": ""
             }
            },
            "type": "scatterpolargl"
           }
          ],
          "scatterternary": [
           {
            "marker": {
             "colorbar": {
              "outlinewidth": 0,
              "ticks": ""
             }
            },
            "type": "scatterternary"
           }
          ],
          "surface": [
           {
            "colorbar": {
             "outlinewidth": 0,
             "ticks": ""
            },
            "colorscale": [
             [
              0,
              "#0d0887"
             ],
             [
              0.1111111111111111,
              "#46039f"
             ],
             [
              0.2222222222222222,
              "#7201a8"
             ],
             [
              0.3333333333333333,
              "#9c179e"
             ],
             [
              0.4444444444444444,
              "#bd3786"
             ],
             [
              0.5555555555555556,
              "#d8576b"
             ],
             [
              0.6666666666666666,
              "#ed7953"
             ],
             [
              0.7777777777777778,
              "#fb9f3a"
             ],
             [
              0.8888888888888888,
              "#fdca26"
             ],
             [
              1,
              "#f0f921"
             ]
            ],
            "type": "surface"
           }
          ],
          "table": [
           {
            "cells": {
             "fill": {
              "color": "#EBF0F8"
             },
             "line": {
              "color": "white"
             }
            },
            "header": {
             "fill": {
              "color": "#C8D4E3"
             },
             "line": {
              "color": "white"
             }
            },
            "type": "table"
           }
          ]
         },
         "layout": {
          "annotationdefaults": {
           "arrowcolor": "#2a3f5f",
           "arrowhead": 0,
           "arrowwidth": 1
          },
          "autotypenumbers": "strict",
          "coloraxis": {
           "colorbar": {
            "outlinewidth": 0,
            "ticks": ""
           }
          },
          "colorscale": {
           "diverging": [
            [
             0,
             "#8e0152"
            ],
            [
             0.1,
             "#c51b7d"
            ],
            [
             0.2,
             "#de77ae"
            ],
            [
             0.3,
             "#f1b6da"
            ],
            [
             0.4,
             "#fde0ef"
            ],
            [
             0.5,
             "#f7f7f7"
            ],
            [
             0.6,
             "#e6f5d0"
            ],
            [
             0.7,
             "#b8e186"
            ],
            [
             0.8,
             "#7fbc41"
            ],
            [
             0.9,
             "#4d9221"
            ],
            [
             1,
             "#276419"
            ]
           ],
           "sequential": [
            [
             0,
             "#0d0887"
            ],
            [
             0.1111111111111111,
             "#46039f"
            ],
            [
             0.2222222222222222,
             "#7201a8"
            ],
            [
             0.3333333333333333,
             "#9c179e"
            ],
            [
             0.4444444444444444,
             "#bd3786"
            ],
            [
             0.5555555555555556,
             "#d8576b"
            ],
            [
             0.6666666666666666,
             "#ed7953"
            ],
            [
             0.7777777777777778,
             "#fb9f3a"
            ],
            [
             0.8888888888888888,
             "#fdca26"
            ],
            [
             1,
             "#f0f921"
            ]
           ],
           "sequentialminus": [
            [
             0,
             "#0d0887"
            ],
            [
             0.1111111111111111,
             "#46039f"
            ],
            [
             0.2222222222222222,
             "#7201a8"
            ],
            [
             0.3333333333333333,
             "#9c179e"
            ],
            [
             0.4444444444444444,
             "#bd3786"
            ],
            [
             0.5555555555555556,
             "#d8576b"
            ],
            [
             0.6666666666666666,
             "#ed7953"
            ],
            [
             0.7777777777777778,
             "#fb9f3a"
            ],
            [
             0.8888888888888888,
             "#fdca26"
            ],
            [
             1,
             "#f0f921"
            ]
           ]
          },
          "colorway": [
           "#636efa",
           "#EF553B",
           "#00cc96",
           "#ab63fa",
           "#FFA15A",
           "#19d3f3",
           "#FF6692",
           "#B6E880",
           "#FF97FF",
           "#FECB52"
          ],
          "font": {
           "color": "#2a3f5f"
          },
          "geo": {
           "bgcolor": "white",
           "lakecolor": "white",
           "landcolor": "#E5ECF6",
           "showlakes": true,
           "showland": true,
           "subunitcolor": "white"
          },
          "hoverlabel": {
           "align": "left"
          },
          "hovermode": "closest",
          "mapbox": {
           "style": "light"
          },
          "paper_bgcolor": "white",
          "plot_bgcolor": "#E5ECF6",
          "polar": {
           "angularaxis": {
            "gridcolor": "white",
            "linecolor": "white",
            "ticks": ""
           },
           "bgcolor": "#E5ECF6",
           "radialaxis": {
            "gridcolor": "white",
            "linecolor": "white",
            "ticks": ""
           }
          },
          "scene": {
           "xaxis": {
            "backgroundcolor": "#E5ECF6",
            "gridcolor": "white",
            "gridwidth": 2,
            "linecolor": "white",
            "showbackground": true,
            "ticks": "",
            "zerolinecolor": "white"
           },
           "yaxis": {
            "backgroundcolor": "#E5ECF6",
            "gridcolor": "white",
            "gridwidth": 2,
            "linecolor": "white",
            "showbackground": true,
            "ticks": "",
            "zerolinecolor": "white"
           },
           "zaxis": {
            "backgroundcolor": "#E5ECF6",
            "gridcolor": "white",
            "gridwidth": 2,
            "linecolor": "white",
            "showbackground": true,
            "ticks": "",
            "zerolinecolor": "white"
           }
          },
          "shapedefaults": {
           "line": {
            "color": "#2a3f5f"
           }
          },
          "ternary": {
           "aaxis": {
            "gridcolor": "white",
            "linecolor": "white",
            "ticks": ""
           },
           "baxis": {
            "gridcolor": "white",
            "linecolor": "white",
            "ticks": ""
           },
           "bgcolor": "#E5ECF6",
           "caxis": {
            "gridcolor": "white",
            "linecolor": "white",
            "ticks": ""
           }
          },
          "title": {
           "x": 0.05
          },
          "xaxis": {
           "automargin": true,
           "gridcolor": "white",
           "linecolor": "white",
           "ticks": "",
           "title": {
            "standoff": 15
           },
           "zerolinecolor": "white",
           "zerolinewidth": 2
          },
          "yaxis": {
           "automargin": true,
           "gridcolor": "white",
           "linecolor": "white",
           "ticks": "",
           "title": {
            "standoff": 15
           },
           "zerolinecolor": "white",
           "zerolinewidth": 2
          }
         }
        },
        "title": {
         "text": "Interactive 3D Scatter: Simulazioni Singole"
        }
       }
      }
     },
     "metadata": {},
     "output_type": "display_data"
    }
   ],
   "source": [
    "import os\n",
    "import pandas as pd\n",
    "import matplotlib.pyplot as plt\n",
    "import plotly.express as px\n",
    "\n",
    "\n",
    "output_folder = r\"C:\\Users\\giorg\\Downloads\\flower\\mobilenet\\flops\\mob\"\n",
    "single_sim_excel_path = os.path.join(output_folder, \"single_simulation_results.xlsx\")\n",
    "\n",
    "\n",
    "df_single = pd.read_excel(single_sim_excel_path)\n",
    "\n",
    "\n",
    "plt.figure(figsize=(10,6))\n",
    "plt.hist(df_single['total_inference_time'], bins=30, edgecolor='black')\n",
    "plt.title(\"Distribuzione del Tempo Totale di Inferenza (Simulazioni Singole)\")\n",
    "plt.xlabel(\"Tempo Totale di Inferenza (s)\")\n",
    "plt.ylabel(\"Frequenza\")\n",
    "plt.grid(True)\n",
    "plt.show()\n",
    "\n",
    "\n",
    "plt.figure(figsize=(10,6))\n",
    "plt.scatter(df_single['total_compute_time'], df_single['total_inference_time'], \n",
    "            alpha=0.6, color='blue')\n",
    "plt.title(\"Tempo di Calcolo vs Tempo Totale di Inferenza (Simulazioni Singole)\")\n",
    "plt.xlabel(\"Tempo Totale di Calcolo (s)\")\n",
    "plt.ylabel(\"Tempo Totale di Inferenza (s)\")\n",
    "plt.grid(True)\n",
    "plt.show()\n",
    "\n",
    "\n",
    "plt.figure(figsize=(10,6))\n",
    "plt.scatter(df_single['total_comm_time'], df_single['total_inference_time'], \n",
    "            alpha=0.6, color='green')\n",
    "plt.title(\"Tempo di Comunicazione vs Tempo Totale di Inferenza (Simulazioni Singole)\")\n",
    "plt.xlabel(\"Tempo Totale di Comunicazione (s)\")\n",
    "plt.ylabel(\"Tempo Totale di Inferenza (s)\")\n",
    "plt.grid(True)\n",
    "plt.show()\n",
    "\n",
    "\n",
    "fig = px.scatter_3d(df_single,\n",
    "                    x='total_compute_time',\n",
    "                    y='total_comm_time',\n",
    "                    z='total_inference_time',\n",
    "                    color='total_inference_time',\n",
    "                    title=\"Interactive 3D Scatter: Simulazioni Singole\",\n",
    "                    labels={\n",
    "                        \"total_compute_time\": \"Tempo di Calcolo (s)\",\n",
    "                        \"total_comm_time\": \"Tempo di Comunicazione (s)\",\n",
    "                        \"total_inference_time\": \"Tempo Totale di Inferenza (s)\"\n",
    "                    })\n",
    "fig.update_traces(marker=dict(size=5))\n",
    "fig.show()\n"
   ]
  }
 ],
 "metadata": {
  "kernelspec": {
   "display_name": "Python 3",
   "language": "python",
   "name": "python3"
  },
  "language_info": {
   "codemirror_mode": {
    "name": "ipython",
    "version": 3
   },
   "file_extension": ".py",
   "mimetype": "text/x-python",
   "name": "python",
   "nbconvert_exporter": "python",
   "pygments_lexer": "ipython3",
   "version": "3.7.4"
  }
 },
 "nbformat": 4,
 "nbformat_minor": 2
}
