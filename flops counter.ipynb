{
 "cells": [
  {
   "cell_type": "code",
   "execution_count": 9,
   "metadata": {},
   "outputs": [
    {
     "name": "stdout",
     "output_type": "stream",
     "text": [
      "WARNING:tensorflow:AutoGraph could not transform <function get_flops.<locals>.model_forward at 0x0000024541039D38> and will run it as-is.\n",
      "Please report this to the TensorFlow team. When filing the bug, set the verbosity to 10 (on Linux, `export AUTOGRAPH_VERBOSITY=10`) and attach the full output.\n",
      "Cause: 'arguments' object has no attribute 'posonlyargs'\n",
      "To silence this warning, decorate the function with @tf.autograph.experimental.do_not_convert\n",
      "WARNING: AutoGraph could not transform <function get_flops.<locals>.model_forward at 0x0000024541039D38> and will run it as-is.\n",
      "Please report this to the TensorFlow team. When filing the bug, set the verbosity to 10 (on Linux, `export AUTOGRAPH_VERBOSITY=10`) and attach the full output.\n",
      "Cause: 'arguments' object has no attribute 'posonlyargs'\n",
      "To silence this warning, decorate the function with @tf.autograph.experimental.do_not_convert\n",
      "FLOPs del modello: 0.56877 GFLOPs\n"
     ]
    }
   ],
   "source": [
    "####FLOPS COUNTERS#####\n",
    "import tensorflow as tf\n",
    "\n",
    "@tf.autograph.experimental.do_not_convert\n",
    "def get_flops(model, input_shape=(1,224, 224, 3)):\n",
    "    \n",
    "    from tensorflow.python.framework.convert_to_constants import convert_variables_to_constants_v2\n",
    "\n",
    "    @tf.function\n",
    "    def model_forward(x):\n",
    "        return model(x)\n",
    "\n",
    "    concrete_func = model_forward.get_concrete_function(tf.TensorSpec(input_shape, tf.float32))\n",
    "    frozen_func = convert_variables_to_constants_v2(concrete_func)\n",
    "    graph_def = frozen_func.graph.as_graph_def()\n",
    "\n",
    "    with tf.Graph().as_default() as graph:\n",
    "        tf.compat.v1.import_graph_def(graph_def, name='')\n",
    "        run_meta = tf.compat.v1.RunMetadata()\n",
    "        opts = tf.compat.v1.profiler.ProfileOptionBuilder.float_operation()\n",
    "        flops = tf.compat.v1.profiler.profile(graph=graph, run_meta=run_meta, cmd='op', options=opts)\n",
    "    return flops.total_float_ops\n",
    "\n",
    "if __name__ == '__main__':\n",
    "    \n",
    "    model = tf.keras.applications.MobileNet(weights='imagenet', input_shape=(224, 224, 3))\n",
    "    total_flops = get_flops(model)\n",
    "    gflops1 = total_flops / 1e9  # MACC = 2 FLOPS\n",
    "    gflops2 = total_flops / 2e9  # MACC = 1 FLOP, versione di defaul con la letteratura\n",
    "    #model.summary()\n",
    "\n",
    "\n",
    "    print(\"FLOPs del modello: {:.5f} GFLOPs\".format(gflops2))\n"
   ]
  },
  {
   "cell_type": "code",
   "execution_count": 10,
   "metadata": {},
   "outputs": [
    {
     "name": "stdout",
     "output_type": "stream",
     "text": [
      "WARNING:tensorflow:AutoGraph could not transform <function get_flops.<locals>.model_forward at 0x00000245AA217D38> and will run it as-is.\n",
      "Please report this to the TensorFlow team. When filing the bug, set the verbosity to 10 (on Linux, `export AUTOGRAPH_VERBOSITY=10`) and attach the full output.\n",
      "Cause: 'arguments' object has no attribute 'posonlyargs'\n",
      "To silence this warning, decorate the function with @tf.autograph.experimental.do_not_convert\n",
      "WARNING: AutoGraph could not transform <function get_flops.<locals>.model_forward at 0x00000245AA217D38> and will run it as-is.\n",
      "Please report this to the TensorFlow team. When filing the bug, set the verbosity to 10 (on Linux, `export AUTOGRAPH_VERBOSITY=10`) and attach the full output.\n",
      "Cause: 'arguments' object has no attribute 'posonlyargs'\n",
      "To silence this warning, decorate the function with @tf.autograph.experimental.do_not_convert\n",
      "FLOPs del modello: 19.21333 GFLOPs\n"
     ]
    }
   ],
   "source": [
    "import tensorflow as tf\n",
    "\n",
    "@tf.autograph.experimental.do_not_convert\n",
    "def get_flops(model, input_shape=(1, 528, 528, 3)):\n",
    "    from tensorflow.python.framework.convert_to_constants import convert_variables_to_constants_v2\n",
    "\n",
    "    @tf.function\n",
    "    def model_forward(x):\n",
    "        return model(x)\n",
    "\n",
    "    # Specifica l'input con batch size fisso per ottenere dimensioni ben definite\n",
    "    concrete_func = model_forward.get_concrete_function(tf.TensorSpec(input_shape, tf.float32))\n",
    "    frozen_func = convert_variables_to_constants_v2(concrete_func)\n",
    "    graph_def = frozen_func.graph.as_graph_def()\n",
    "\n",
    "    with tf.Graph().as_default() as graph:\n",
    "        tf.compat.v1.import_graph_def(graph_def, name='')\n",
    "        run_meta = tf.compat.v1.RunMetadata()\n",
    "        opts = tf.compat.v1.profiler.ProfileOptionBuilder.float_operation()\n",
    "        flops = tf.compat.v1.profiler.profile(graph=graph, run_meta=run_meta, cmd='op', options=opts)\n",
    "    return flops.total_float_ops\n",
    "\n",
    "if __name__ == '__main__':\n",
    "    model = tf.keras.applications.EfficientNetB6(weights='imagenet', input_shape=(528, 528, 3))\n",
    "    total_flops = get_flops(model, input_shape=(1, 528, 528, 3))\n",
    "    gflops1 = total_flops / 1e9  # MACC = 2 FLOPS\n",
    "    gflops2 = total_flops / 2e9  # MACC = 1 FLOP, versione di default nella letteratura\n",
    "\n",
    "    print(\"FLOPs del modello: {:.5f} GFLOPs\".format(gflops2))\n"
   ]
  },
  {
   "cell_type": "code",
   "execution_count": null,
   "metadata": {},
   "outputs": [
    {
     "name": "stdout",
     "output_type": "stream",
     "text": [
      "WARNING:tensorflow:AutoGraph could not transform <function get_flops.<locals>.model_forward at 0x0000027B737EF948> and will run it as-is.\n",
      "Please report this to the TensorFlow team. When filing the bug, set the verbosity to 10 (on Linux, `export AUTOGRAPH_VERBOSITY=10`) and attach the full output.\n",
      "Cause: 'arguments' object has no attribute 'posonlyargs'\n",
      "To silence this warning, decorate the function with @tf.autograph.experimental.do_not_convert\n",
      "WARNING: AutoGraph could not transform <function get_flops.<locals>.model_forward at 0x0000027B737EF948> and will run it as-is.\n",
      "Please report this to the TensorFlow team. When filing the bug, set the verbosity to 10 (on Linux, `export AUTOGRAPH_VERBOSITY=10`) and attach the full output.\n",
      "Cause: 'arguments' object has no attribute 'posonlyargs'\n",
      "To silence this warning, decorate the function with @tf.autograph.experimental.do_not_convert\n",
      "FLOPs dei primi 4 layer: 7.577 GFLOPs\n"
     ]
    },
    {
     "ename": "",
     "evalue": "",
     "output_type": "error",
     "traceback": [
      "\u001b[1;31mThe Kernel crashed while executing code in the current cell or a previous cell. \n",
      "\u001b[1;31mPlease review the code in the cell(s) to identify a possible cause of the failure. \n",
      "\u001b[1;31mClick <a href='https://aka.ms/vscodeJupyterKernelCrash'>here</a> for more info. \n",
      "\u001b[1;31mView Jupyter <a href='command:jupyter.viewOutput'>log</a> for further details."
     ]
    }
   ],
   "source": [
    "import tensorflow as tf\n",
    "import numpy as np\n",
    "import time\n",
    "\n",
    "@tf.autograph.experimental.do_not_convert\n",
    "def get_flops(model, input_shape=(1, 224, 224, 3)):\n",
    "    \"\"\"\n",
    "    Calcola i FLOPs (floating point operations) del modello dato un input_shape.\n",
    "    \"\"\"\n",
    "    from tensorflow.python.framework.convert_to_constants import convert_variables_to_constants_v2\n",
    "\n",
    "    @tf.function\n",
    "    def model_forward(x):\n",
    "        return model(x)\n",
    "\n",
    "    \n",
    "    concrete_func = model_forward.get_concrete_function(tf.TensorSpec(input_shape, tf.float32))\n",
    "    frozen_func = convert_variables_to_constants_v2(concrete_func)\n",
    "    graph_def = frozen_func.graph.as_graph_def()\n",
    "\n",
    "    \n",
    "    with tf.Graph().as_default() as graph:\n",
    "        tf.compat.v1.import_graph_def(graph_def, name='')\n",
    "        run_meta = tf.compat.v1.RunMetadata()\n",
    "        opts = tf.compat.v1.profiler.ProfileOptionBuilder.float_operation()\n",
    "        flops = tf.compat.v1.profiler.profile(graph=graph, run_meta=run_meta, cmd='op', options=opts)\n",
    "    return flops.total_float_ops\n",
    "\n",
    "if __name__ == '__main__':\n",
    "    \n",
    "    model = tf.keras.applications.ResNet101(weights='imagenet', input_shape=(224, 224, 3))\n",
    "    \n",
    "    # Crea un sub-model che estrae l'output del layer 87\n",
    "    sub_model = tf.keras.Model(inputs=model.input, outputs=model.layers[345].output)\n",
    "    #sub_model.summary()\n",
    "\n",
    "    total_flops = get_flops(sub_model)\n",
    "    # Conversione in GFLOPs (1 MAC = 2 FLOPs)\n",
    "    gflops = total_flops / 2e9  \n",
    "    print(\"FLOPs dei primi 4 layer: {:.3f} GFLOPs\".format(gflops))\n"
   ]
  }
 ],
 "metadata": {
  "kernelspec": {
   "display_name": "Python 3",
   "language": "python",
   "name": "python3"
  },
  "language_info": {
   "codemirror_mode": {
    "name": "ipython",
    "version": 3
   },
   "file_extension": ".py",
   "mimetype": "text/x-python",
   "name": "python",
   "nbconvert_exporter": "python",
   "pygments_lexer": "ipython3",
   "version": "3.7.4"
  }
 },
 "nbformat": 4,
 "nbformat_minor": 2
}
